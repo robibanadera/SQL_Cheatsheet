{
 "cells": [
  {
   "cell_type": "markdown",
   "id": "public-findings",
   "metadata": {},
   "source": [
    "# FILTERING ROWS"
   ]
  },
  {
   "cell_type": "markdown",
   "id": "egyptian-concert",
   "metadata": {},
   "source": [
    "In SQL, the WHERE keyword allows you to filter based on both text and numeric values in a table. There are a few different comparison operators you can use:\n",
    "\n",
    "* = equal\n",
    "* <> not equal\n",
    "* < less than\n",
    "* <p> > greater than </p>\n",
    "* <= less than or equal to\n",
    "* <p> >= greater than or equal to </p>"
   ]
  },
  {
   "cell_type": "markdown",
   "id": "bronze-intermediate",
   "metadata": {},
   "source": [
    "### Simple filtering of numeric values"
   ]
  },
  {
   "cell_type": "markdown",
   "id": "addressed-guard",
   "metadata": {},
   "source": [
    "Can be used for filtering both numbers and 'text'"
   ]
  },
  {
   "cell_type": "code",
   "execution_count": null,
   "id": "fantastic-trust",
   "metadata": {},
   "outputs": [],
   "source": [
    "SELECT <column/s>\n",
    "FROM <database>\n",
    "WHERE <column> <operand> <value>;"
   ]
  },
  {
   "cell_type": "markdown",
   "id": "religious-messaging",
   "metadata": {
    "ExecuteTime": {
     "end_time": "2021-03-22T10:41:15.820471Z",
     "start_time": "2021-03-22T10:41:15.813474Z"
    }
   },
   "source": [
    "### WHERE AND"
   ]
  },
  {
   "cell_type": "code",
   "execution_count": null,
   "id": "assumed-christian",
   "metadata": {},
   "outputs": [],
   "source": [
    "SELECT <column>\n",
    "FROM <database>\n",
    "WHERE <column> <operand> <value>\n",
    "AND <column> <operand> <value>;\n",
    "\n",
    "# Note that you need to specify the column name separately"
   ]
  },
  {
   "cell_type": "markdown",
   "id": "peaceful-september",
   "metadata": {},
   "source": [
    "### WHERE AND OR"
   ]
  },
  {
   "cell_type": "markdown",
   "id": "soviet-stranger",
   "metadata": {},
   "source": [
    "What if you want to select rows based on multiple conditions where some but not all of the conditions need to be met? For this, SQL has the OR operator."
   ]
  },
  {
   "cell_type": "code",
   "execution_count": null,
   "id": "chubby-occupation",
   "metadata": {},
   "outputs": [],
   "source": [
    "SELECT title\n",
    "FROM films\n",
    "WHERE release_year = 1994\n",
    "OR release_year = 2000;"
   ]
  },
  {
   "cell_type": "code",
   "execution_count": null,
   "id": "satellite-discussion",
   "metadata": {},
   "outputs": [],
   "source": [
    "# When combining AND and OR, be sure to enclose the individual clauses in parentheses, like so:\n",
    "SELECT title\n",
    "FROM films\n",
    "WHERE (release_year = 1994 OR release_year = 1995)\n",
    "AND (certification = 'PG' OR certification = 'R');"
   ]
  },
  {
   "cell_type": "markdown",
   "id": "powerful-coupon",
   "metadata": {},
   "source": [
    "## BETWEEN"
   ]
  },
  {
   "cell_type": "markdown",
   "id": "entitled-nudist",
   "metadata": {},
   "source": [
    "In SQL the BETWEEN keyword provides a useful shorthand for filtering values within a specified range."
   ]
  },
  {
   "cell_type": "code",
   "execution_count": null,
   "id": "unsigned-simple",
   "metadata": {},
   "outputs": [],
   "source": [
    "SELECT title\n",
    "FROM films\n",
    "WHERE release_year\n",
    "BETWEEN 1994 AND 2000;"
   ]
  },
  {
   "cell_type": "markdown",
   "id": "olympic-permission",
   "metadata": {},
   "source": [
    "Similar to the WHERE clause, the BETWEEN clause can be used with multiple AND and OR operators, so you can build up your queries and make them even more powerful!"
   ]
  },
  {
   "cell_type": "code",
   "execution_count": null,
   "id": "elegant-gravity",
   "metadata": {},
   "outputs": [],
   "source": [
    "SELECT name\n",
    "FROM kids\n",
    "WHERE age BETWEEN 2 AND 12\n",
    "AND nationality = 'USA';"
   ]
  },
  {
   "cell_type": "markdown",
   "id": "jewish-arrangement",
   "metadata": {},
   "source": [
    "## WHERE IN"
   ]
  },
  {
   "cell_type": "markdown",
   "id": "included-membership",
   "metadata": {},
   "source": [
    "The IN operator allows you to specify multiple values in a WHERE clause, making it easier and quicker to specify multiple OR conditions!"
   ]
  },
  {
   "cell_type": "code",
   "execution_count": null,
   "id": "interpreted-maine",
   "metadata": {},
   "outputs": [],
   "source": [
    "# Instead of using this\n",
    "SELECT name\n",
    "FROM kids\n",
    "WHERE age = 2\n",
    "OR age = 4\n",
    "OR age = 6\n",
    "OR age = 8\n",
    "OR age = 10;\n",
    "\n",
    "# USE THIS!\n",
    "SELECT name\n",
    "FROM kids\n",
    "WHERE age IN (2, 4, 6, 8, 10);"
   ]
  },
  {
   "cell_type": "markdown",
   "id": "happy-drink",
   "metadata": {},
   "source": [
    "## LIKE and NOT LIKE"
   ]
  },
  {
   "cell_type": "markdown",
   "id": "devoted-puppy",
   "metadata": {},
   "source": [
    "As you've seen, the WHERE clause can be used to filter text data. However, so far you've only been able to filter by specifying the exact text you're interested in. In the real world, often you'll want to search for a pattern rather than a specific text string.\n",
    "\n",
    "In SQL, the LIKE operator can be used in a WHERE clause to search for a pattern in a column. To accomplish this, you use something called a wildcard as a placeholder for some other values. There are two wildcards you can use with LIKE:\n",
    "\n",
    "The % wildcard will match zero, one, or many characters in text. For example, the following query matches companies like 'Data', 'DataC' 'DataCamp', 'DataMind', and so on:"
   ]
  },
  {
   "cell_type": "code",
   "execution_count": null,
   "id": "gothic-qatar",
   "metadata": {},
   "outputs": [],
   "source": [
    "SELECT name\n",
    "FROM companies\n",
    "WHERE name LIKE 'Data%';"
   ]
  },
  {
   "cell_type": "markdown",
   "id": "renewable-spouse",
   "metadata": {},
   "source": [
    "The _ wildcard will match a single character. For example, the following query matches companies like 'DataCamp', 'DataComp', and so on:"
   ]
  },
  {
   "cell_type": "code",
   "execution_count": null,
   "id": "genetic-union",
   "metadata": {},
   "outputs": [],
   "source": [
    "SELECT name\n",
    "FROM companies\n",
    "WHERE name LIKE 'DataC_mp';"
   ]
  }
 ],
 "metadata": {
  "kernelspec": {
   "display_name": "Python 3",
   "language": "python",
   "name": "python3"
  },
  "language_info": {
   "codemirror_mode": {
    "name": "ipython",
    "version": 3
   },
   "file_extension": ".py",
   "mimetype": "text/x-python",
   "name": "python",
   "nbconvert_exporter": "python",
   "pygments_lexer": "ipython3",
   "version": "3.8.8"
  }
 },
 "nbformat": 4,
 "nbformat_minor": 5
}
