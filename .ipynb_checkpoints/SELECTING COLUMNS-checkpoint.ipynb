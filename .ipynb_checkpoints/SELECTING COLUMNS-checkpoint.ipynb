{
 "cells": [
  {
   "cell_type": "markdown",
   "id": "random-reason",
   "metadata": {},
   "source": [
    "# SELECTING COLUMNS"
   ]
  },
  {
   "cell_type": "markdown",
   "id": "average-priority",
   "metadata": {},
   "source": [
    "### SELECTing single columns"
   ]
  },
  {
   "cell_type": "code",
   "execution_count": 2,
   "id": "married-spoke",
   "metadata": {
    "ExecuteTime": {
     "end_time": "2021-03-22T07:07:27.460435Z",
     "start_time": "2021-03-22T07:07:27.456440Z"
    }
   },
   "outputs": [],
   "source": [
    "SELECT <column>\n",
    "FROM <database>;"
   ]
  },
  {
   "cell_type": "markdown",
   "id": "becoming-visit",
   "metadata": {},
   "source": [
    "### SELECTing multiple columns"
   ]
  },
  {
   "cell_type": "markdown",
   "id": "interim-relevance",
   "metadata": {
    "ExecuteTime": {
     "end_time": "2021-03-22T07:10:32.401214Z",
     "start_time": "2021-03-22T07:10:32.395217Z"
    }
   },
   "source": [
    "Select multiple columns"
   ]
  },
  {
   "cell_type": "code",
   "execution_count": null,
   "id": "informative-aluminum",
   "metadata": {},
   "outputs": [],
   "source": [
    "SELECT <column>, <column>\n",
    "FROM <database>;"
   ]
  },
  {
   "cell_type": "markdown",
   "id": "ruled-deficit",
   "metadata": {},
   "source": [
    "Select ALL columns"
   ]
  },
  {
   "cell_type": "code",
   "execution_count": 2,
   "id": "necessary-missouri",
   "metadata": {
    "ExecuteTime": {
     "end_time": "2021-03-22T08:41:01.265005Z",
     "start_time": "2021-03-22T08:41:01.261007Z"
    }
   },
   "outputs": [],
   "source": [
    "SELECT *\n",
    "FROM <database>;"
   ]
  },
  {
   "cell_type": "markdown",
   "id": "introductory-banking",
   "metadata": {},
   "source": [
    "If you only want to return a certain number of results, you can use the LIMIT keyword to limit the number of rows returned: (*similar to **.head()** in pandas*)"
   ]
  },
  {
   "cell_type": "code",
   "execution_count": null,
   "id": "genetic-norway",
   "metadata": {},
   "outputs": [],
   "source": [
    "SELECT *\n",
    "FROM <database>\n",
    "LIMIT 10;"
   ]
  },
  {
   "cell_type": "markdown",
   "id": "polish-tuesday",
   "metadata": {},
   "source": [
    "### SELECT DISTINCT (same as .unique())"
   ]
  },
  {
   "cell_type": "code",
   "execution_count": null,
   "id": "israeli-doctor",
   "metadata": {},
   "outputs": [],
   "source": [
    "SELECT DISTINCT <column>\n",
    "FROM <database>;"
   ]
  },
  {
   "cell_type": "markdown",
   "id": "studied-choir",
   "metadata": {},
   "source": [
    "### Learning to COUNT"
   ]
  },
  {
   "cell_type": "markdown",
   "id": "precise-smile",
   "metadata": {},
   "source": [
    "Count number of rows from database"
   ]
  },
  {
   "cell_type": "code",
   "execution_count": null,
   "id": "elect-accuracy",
   "metadata": {},
   "outputs": [],
   "source": [
    "SELECT COUNT(*)\n",
    "FROM <database>;"
   ]
  },
  {
   "cell_type": "markdown",
   "id": "defined-evening",
   "metadata": {},
   "source": [
    "Count specific column"
   ]
  },
  {
   "cell_type": "code",
   "execution_count": null,
   "id": "brilliant-complex",
   "metadata": {},
   "outputs": [],
   "source": [
    "SELECT COUNT(birthdate)\n",
    "FROM people;"
   ]
  },
  {
   "cell_type": "markdown",
   "id": "attractive-fossil",
   "metadata": {
    "ExecuteTime": {
     "end_time": "2021-03-22T08:10:32.188471Z",
     "start_time": "2021-03-22T08:10:32.183473Z"
    }
   },
   "source": [
    "Count DISTINCT values"
   ]
  },
  {
   "cell_type": "code",
   "execution_count": null,
   "id": "spanish-cocktail",
   "metadata": {},
   "outputs": [],
   "source": [
    "SELECT COUNT(DISTINCT <column>)\n",
    "FROM <database>;"
   ]
  }
 ],
 "metadata": {
  "kernelspec": {
   "display_name": "Python 3",
   "language": "python",
   "name": "python3"
  },
  "language_info": {
   "codemirror_mode": {
    "name": "ipython",
    "version": 3
   },
   "file_extension": ".py",
   "mimetype": "text/x-python",
   "name": "python",
   "nbconvert_exporter": "python",
   "pygments_lexer": "ipython3",
   "version": "3.8.8"
  }
 },
 "nbformat": 4,
 "nbformat_minor": 5
}
